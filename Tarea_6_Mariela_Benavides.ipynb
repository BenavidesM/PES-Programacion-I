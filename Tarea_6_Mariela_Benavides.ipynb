{
 "cells": [
  {
   "cell_type": "markdown",
   "metadata": {},
   "source": [
    "## Clase `Dice`\n",
    "\n",
    "Implementar una clase denominada `Dice`, que funcione como un conjunto de $n$ dados. La clase debe recibir como argumento el número de dados a tirar. Además, la clase debe implementar:\n",
    "\n",
    "- Un método de `roll()` que simula la tirada de los $n$ dados y guarda internamente una lista con los valores resultantes. No devuelve nada.\n",
    "    \n",
    "    - Si no se ha llamado a `roll()`, la lista interna debe ser vacía.\n",
    "\n",
    "- Un método `getLastRoll()` que devuelve la lista con los valores de la última tirada.\n",
    "\n",
    "- Un método `getRollSum()` que devuelve la suma de los valores de la última tirada.\n",
    "\n",
    "    - Si no se ha llamado a `roll()`, debe devolver cero."
   ]
  },
  {
   "cell_type": "code",
   "execution_count": 1,
   "metadata": {},
   "outputs": [
    {
     "data": {
      "text/plain": [
       "5"
      ]
     },
     "execution_count": 1,
     "metadata": {},
     "output_type": "execute_result"
    }
   ],
   "source": [
    "# Ayuda, utilizar la siguiente función del módulo random\n",
    "import random\n",
    "random.randint(1,6)"
   ]
  },
  {
   "cell_type": "code",
   "execution_count": 27,
   "metadata": {},
   "outputs": [],
   "source": [
    "class Dice(object):\n",
    " \n",
    "    def __init__(self, n):\n",
    "        self.n = n\n",
    "        self.tirada = []\n",
    "        suma=0\n",
    "        \n",
    "    \n",
    "    def roll(self):\n",
    "        self.tirada=[]\n",
    "        for i in range(self.n):\n",
    "            vdado=random.randint(1,6)\n",
    "            self.tirada.append(vdado)\n",
    "         \n",
    "            \n",
    "    def getLastRoll(self):\n",
    "        ultimo=self.tirada\n",
    "        return ultimo\n",
    "\n",
    "    def getRollSum(self):\n",
    "        suma=0\n",
    "        for i in range(len(self.tirada)):\n",
    "            suma+=self.tirada[i]\n",
    "        return suma "
   ]
  },
  {
   "cell_type": "code",
   "execution_count": 28,
   "metadata": {},
   "outputs": [
    {
     "data": {
      "text/plain": [
       "[]"
      ]
     },
     "execution_count": 28,
     "metadata": {},
     "output_type": "execute_result"
    }
   ],
   "source": [
    "a=Dice(2)\n",
    "a.getLastRoll()"
   ]
  },
  {
   "cell_type": "code",
   "execution_count": 29,
   "metadata": {},
   "outputs": [
    {
     "data": {
      "text/plain": [
       "0"
      ]
     },
     "execution_count": 29,
     "metadata": {},
     "output_type": "execute_result"
    }
   ],
   "source": [
    "a.getRollSum()\n",
    "# Devuelve 0"
   ]
  },
  {
   "cell_type": "code",
   "execution_count": 30,
   "metadata": {},
   "outputs": [
    {
     "data": {
      "text/plain": [
       "[2, 6]"
      ]
     },
     "execution_count": 30,
     "metadata": {},
     "output_type": "execute_result"
    }
   ],
   "source": [
    "a.roll()\n",
    "a.getLastRoll()\n",
    "# Devuelve lista con dos números"
   ]
  },
  {
   "cell_type": "code",
   "execution_count": 31,
   "metadata": {},
   "outputs": [
    {
     "data": {
      "text/plain": [
       "8"
      ]
     },
     "execution_count": 31,
     "metadata": {},
     "output_type": "execute_result"
    }
   ],
   "source": [
    "a.getRollSum()\n",
    "# Devuelve la suma de los números de la lista anterior"
   ]
  },
  {
   "cell_type": "markdown",
   "metadata": {},
   "source": [
    "**Herencia de la clase Rectangle**"
   ]
  },
  {
   "cell_type": "code",
   "execution_count": 32,
   "metadata": {},
   "outputs": [],
   "source": [
    "class Rectangle(object):\n",
    "    def __init__(self, length, width):\n",
    "        self.length = length\n",
    "        self.width = width\n",
    "        \n",
    "    def area(self):\n",
    "        return self.width * self.length\n",
    "    \n",
    "    def perimeter(self):\n",
    "        return (2*self.length) + (2*self.width)\n",
    "    \n",
    "class Square(Rectangle):\n",
    "    def __init__(self, length):\n",
    "        self.length = length\n",
    "        self.width = length\n",
    "    '''\n",
    "        Redefinir el método constructor, sin redefinir las funciones de área\n",
    "        y perímetro, para que un objeto de tipo Square con:\n",
    "            .area() devuelva el área de un cuadrado de tamaño length y\n",
    "            .perimeter() devuelva el perímetro del cuadrado\n",
    "    '''\n",
    "        \n",
    "class Cube(Square):\n",
    "    \n",
    "    '''\n",
    "        Heredar de Square todos los métodos (incluido el constructor) y \n",
    "        agregar un método para obtener el volumen de un objeto de tipo Cube.\n",
    "    '''\n",
    "    def volume(self):\n",
    "        return (self.area())*(self.length)\n",
    "    \n",
    "    "
   ]
  },
  {
   "cell_type": "code",
   "execution_count": 33,
   "metadata": {},
   "outputs": [
    {
     "data": {
      "text/plain": [
       "<__main__.Rectangle at 0x24f50d23dc8>"
      ]
     },
     "execution_count": 33,
     "metadata": {},
     "output_type": "execute_result"
    }
   ],
   "source": [
    "a=Rectangle(2,5)\n",
    "a"
   ]
  },
  {
   "cell_type": "code",
   "execution_count": 34,
   "metadata": {},
   "outputs": [
    {
     "data": {
      "text/plain": [
       "<__main__.Square at 0x24f50d25388>"
      ]
     },
     "execution_count": 34,
     "metadata": {},
     "output_type": "execute_result"
    }
   ],
   "source": [
    "b=Square(2)\n",
    "b"
   ]
  },
  {
   "cell_type": "code",
   "execution_count": 35,
   "metadata": {},
   "outputs": [
    {
     "data": {
      "text/plain": [
       "4"
      ]
     },
     "execution_count": 35,
     "metadata": {},
     "output_type": "execute_result"
    }
   ],
   "source": [
    "b.area()"
   ]
  },
  {
   "cell_type": "code",
   "execution_count": 36,
   "metadata": {},
   "outputs": [],
   "source": [
    "c=Cube(5)"
   ]
  },
  {
   "cell_type": "code",
   "execution_count": 37,
   "metadata": {},
   "outputs": [
    {
     "data": {
      "text/plain": [
       "125"
      ]
     },
     "execution_count": 37,
     "metadata": {},
     "output_type": "execute_result"
    }
   ],
   "source": [
    "c.volume()"
   ]
  },
  {
   "cell_type": "markdown",
   "metadata": {},
   "source": [
    "Nota: instancie algunos objetos y muestre que sus métodos funcionan correctamente."
   ]
  },
  {
   "cell_type": "markdown",
   "metadata": {},
   "source": [
    "## Programando nuestro propio *Blockchain*\n",
    "\n",
    "Crear una clase denominada `Block` que almacene un diccionario con transacciones. La clase `Block` debe implementar:\n",
    "\n",
    "- Atributo de transacciones, representado con un diccionario `transactions`. Las llaves pueden ser alfanuméricas y los valores del diccionario representan los débitos ($-$) o créditos ($+$) relativas a una transacción.\n",
    "\n",
    "- Atributos `previousBlock` y `nextBlock` que apuntan a objetos tipo `Block` para referir al anterior y siguiente \"bloque\" en la cadena.\n",
    "    - Estos deben ser `None` por defecto en el constructor.\n",
    "    - Se deben programar métodos *getter* y *setter* para acceder y modificar estos atributos.\n",
    "    \n",
    "- Un método `getBlockID()` para obtener el ID de un bloque específico utilizando **variables de clase**.\n",
    "\n",
    "- Un método `getTransactions()` para obtener **una copia** del diccionario de transacciones.\n",
    "\n",
    "- La asignación consiste en completar el método `getBalanceFromHere()`, que computa el balance de las cuentas desde el bloque actual hasta el final del *blockchain*."
   ]
  },
  {
   "cell_type": "code",
   "execution_count": 13,
   "metadata": {},
   "outputs": [],
   "source": [
    "class Block(object):\n",
    "    \n",
    "    blockCount = 0\n",
    "    \n",
    "    # Inicializa el bloque con el diccionario de transacciones \n",
    "    def __init__(self, transactions={}, previousBlock=None, nextBlock=None):\n",
    "        self.transactions = transactions\n",
    "        self.previousBlock = None\n",
    "        self.nextBlock = None\n",
    "        self.blockID = Block.blockCount\n",
    "        Block.blockCount += 1\n",
    "        \n",
    "    # Muestra el número de instancia y sus transacciones\n",
    "    def __str__(self):\n",
    "        return \"Block %d: \" % self.blockID + str(self.transactions)\n",
    "        \n",
    "    # Obtener el ID del bloque\n",
    "    def getBlockID(self):\n",
    "        return self.blockID \n",
    "    \n",
    "    def getTransactions(self):\n",
    "        return self.transactions.copy()\n",
    "    \n",
    "    # Getters y setters para obtener bloque anterior y siguiente\n",
    "    def setPreviousBlock(self, block):       \n",
    "        \n",
    "        self.previousBlock = block\n",
    "        \n",
    "    def getPreviousBlock(self):\n",
    "        return self.previousBlock\n",
    "    def setNextBlock(self, block):\n",
    "        self.nextBlock = block\n",
    "        block.setPreviousBlock(self)\n",
    "    def getNextBlock(self):\n",
    "        return self.nextBlock\n",
    "    \n",
    "    ''' Completar para computar la función de \n",
    "        balance a partir de este bloque. Devuelve un \n",
    "        diccionario con las llaves y su balance acumulado\n",
    "        a partir de este bloque (incluyendo las transacciones\n",
    "        de este bloque).\n",
    "    '''\n",
    "    def getBalanceFromHere(self):\n",
    "        '''Reliza el balance del periodo seleccionado con respecto a los periodos siguientes'''\n",
    "        if int(self.getBlockID())== (int(Block.blockCount)-1):#Caso base, último bloque generado\n",
    "            balance = self.getTransactions()\n",
    "            \n",
    "            return balance\n",
    "        \n",
    "        else:\n",
    "            #si no se trata del último bloque generado, se trabaja de forma recursiva\n",
    "            revisa=self\n",
    "            i=int(revisa.getBlockID())\n",
    "            balance=self.getTransactions()\n",
    "\n",
    "            while i<((Block.blockCount)-1):\n",
    "                rev= revisa.getTransactions()\n",
    "                siguiente=(revisa.getNextBlock())\n",
    "                sig = siguiente.transactions\n",
    "                \n",
    "                 #genera las sumas correspondientes en las llaves iguales y agrega las faltantes.               \n",
    "                for x,y in rev.items():\n",
    "                    for z,w in sig.items():\n",
    "                        if x==z:\n",
    "                            balance[x]+=w\n",
    "                        elif z not in rev:\n",
    "                            balance[z]=w\n",
    "                \n",
    "                i=i+1\n",
    "                revisa=revisa.getNextBlock()\n",
    "                \n",
    "            return balance\n",
    "            \n",
    "            "
   ]
  },
  {
   "cell_type": "code",
   "execution_count": 15,
   "metadata": {},
   "outputs": [
    {
     "data": {
      "text/plain": [
       "0"
      ]
     },
     "execution_count": 15,
     "metadata": {},
     "output_type": "execute_result"
    }
   ],
   "source": [
    "Block.blockCount"
   ]
  },
  {
   "cell_type": "code",
   "execution_count": 16,
   "metadata": {},
   "outputs": [
    {
     "name": "stdout",
     "output_type": "stream",
     "text": [
      "Block 0: {'A': 50, 'B': -10, 'C': 5}\n",
      "Block 1: {'A': -10, 'C': 10}\n",
      "Block 2: {'B': 10, 'C': 5}\n"
     ]
    }
   ],
   "source": [
    "# Creamos algunos bloques con transacciones\n",
    "B0 = Block({'A': 50, 'B': -10, 'C': 5})\n",
    "B1 = Block({'A':-10, 'C':+10})\n",
    "B2 = Block({'B':+10, 'C':+5})\n",
    "print(B0, B1, B2, sep='\\n')"
   ]
  },
  {
   "cell_type": "code",
   "execution_count": 17,
   "metadata": {},
   "outputs": [],
   "source": [
    "# Configuramos la cadena de bloques\n",
    "B0.setNextBlock(B1)\n",
    "B1.setNextBlock(B2)"
   ]
  },
  {
   "cell_type": "code",
   "execution_count": 18,
   "metadata": {},
   "outputs": [
    {
     "name": "stdout",
     "output_type": "stream",
     "text": [
      "Block 1: {'A': -10, 'C': 10}\n",
      "Block 2: {'B': 10, 'C': 5}\n"
     ]
    }
   ],
   "source": [
    "print(B0.getNextBlock())\n",
    "print(B1.getNextBlock())"
   ]
  },
  {
   "cell_type": "code",
   "execution_count": 19,
   "metadata": {},
   "outputs": [
    {
     "name": "stdout",
     "output_type": "stream",
     "text": [
      "Block 0: {'A': 50, 'B': -10, 'C': 5}\n",
      "Block 1: {'A': -10, 'C': 10}\n"
     ]
    }
   ],
   "source": [
    "print(B1.getPreviousBlock())\n",
    "print(B2.getPreviousBlock())"
   ]
  },
  {
   "cell_type": "code",
   "execution_count": 20,
   "metadata": {},
   "outputs": [
    {
     "name": "stdout",
     "output_type": "stream",
     "text": [
      "None\n"
     ]
    }
   ],
   "source": [
    "print(B0.getPreviousBlock())\n",
    "# Devuelve None"
   ]
  },
  {
   "cell_type": "code",
   "execution_count": 21,
   "metadata": {},
   "outputs": [
    {
     "name": "stdout",
     "output_type": "stream",
     "text": [
      "None\n"
     ]
    }
   ],
   "source": [
    "print(B2.getNextBlock())\n",
    "# Devuelve None"
   ]
  },
  {
   "cell_type": "code",
   "execution_count": 22,
   "metadata": {},
   "outputs": [
    {
     "data": {
      "text/plain": [
       "{'A': -10, 'C': 15, 'B': 10}"
      ]
     },
     "execution_count": 22,
     "metadata": {},
     "output_type": "execute_result"
    }
   ],
   "source": [
    "B1.getBalanceFromHere()\n",
    "# Debe devolver {'A': -10, 'C': 15, 'B': 10}"
   ]
  },
  {
   "cell_type": "code",
   "execution_count": 23,
   "metadata": {},
   "outputs": [
    {
     "data": {
      "text/plain": [
       "{'A': 40, 'B': 10, 'C': 20}"
      ]
     },
     "execution_count": 23,
     "metadata": {},
     "output_type": "execute_result"
    }
   ],
   "source": [
    "B0.getBalanceFromHere()\n",
    "# Debe devolver {'A': 40, 'B': 0, 'C': 20}"
   ]
  },
  {
   "cell_type": "code",
   "execution_count": 24,
   "metadata": {},
   "outputs": [
    {
     "data": {
      "text/plain": [
       "{'B': 10, 'C': 5}"
      ]
     },
     "execution_count": 24,
     "metadata": {},
     "output_type": "execute_result"
    }
   ],
   "source": [
    "B2.getBalanceFromHere()"
   ]
  }
 ],
 "metadata": {
  "kernelspec": {
   "display_name": "Python 3",
   "language": "python",
   "name": "python3"
  },
  "language_info": {
   "codemirror_mode": {
    "name": "ipython",
    "version": 3
   },
   "file_extension": ".py",
   "mimetype": "text/x-python",
   "name": "python",
   "nbconvert_exporter": "python",
   "pygments_lexer": "ipython3",
   "version": "3.7.4"
  }
 },
 "nbformat": 4,
 "nbformat_minor": 2
}
