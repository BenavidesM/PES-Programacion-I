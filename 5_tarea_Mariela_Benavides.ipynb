{
 "cells": [
  {
   "cell_type": "markdown",
   "metadata": {},
   "source": [
    "# Tarea #6\n",
    "**Programacion I**"
   ]
  },
  {
   "cell_type": "markdown",
   "metadata": {},
   "source": [
    "## Ejercicio 1\n",
    "\n",
    "Ejecute el siguiente programa y explique su procedimiento y el porqué del resultado. "
   ]
  },
  {
   "cell_type": "code",
   "execution_count": 1,
   "metadata": {},
   "outputs": [
    {
     "ename": "RecursionError",
     "evalue": "maximum recursion depth exceeded",
     "output_type": "error",
     "traceback": [
      "\u001b[1;31m---------------------------------------------------------------------------\u001b[0m",
      "\u001b[1;31mRecursionError\u001b[0m                            Traceback (most recent call last)",
      "\u001b[1;32m<ipython-input-1-00d266b39dc6>\u001b[0m in \u001b[0;36m<module>\u001b[1;34m\u001b[0m\n\u001b[0;32m      2\u001b[0m     \u001b[0mf\u001b[0m\u001b[1;33m(\u001b[0m\u001b[0mf\u001b[0m\u001b[1;33m)\u001b[0m\u001b[1;33m\u001b[0m\u001b[1;33m\u001b[0m\u001b[0m\n\u001b[0;32m      3\u001b[0m \u001b[1;33m\u001b[0m\u001b[0m\n\u001b[1;32m----> 4\u001b[1;33m \u001b[0mRecusion\u001b[0m\u001b[1;33m(\u001b[0m\u001b[0mRecusion\u001b[0m\u001b[1;33m)\u001b[0m\u001b[1;33m\u001b[0m\u001b[1;33m\u001b[0m\u001b[0m\n\u001b[0m",
      "\u001b[1;32m<ipython-input-1-00d266b39dc6>\u001b[0m in \u001b[0;36mRecusion\u001b[1;34m(f)\u001b[0m\n\u001b[0;32m      1\u001b[0m \u001b[1;32mdef\u001b[0m \u001b[0mRecusion\u001b[0m\u001b[1;33m(\u001b[0m\u001b[0mf\u001b[0m\u001b[1;33m)\u001b[0m\u001b[1;33m:\u001b[0m\u001b[1;33m\u001b[0m\u001b[1;33m\u001b[0m\u001b[0m\n\u001b[1;32m----> 2\u001b[1;33m     \u001b[0mf\u001b[0m\u001b[1;33m(\u001b[0m\u001b[0mf\u001b[0m\u001b[1;33m)\u001b[0m\u001b[1;33m\u001b[0m\u001b[1;33m\u001b[0m\u001b[0m\n\u001b[0m\u001b[0;32m      3\u001b[0m \u001b[1;33m\u001b[0m\u001b[0m\n\u001b[0;32m      4\u001b[0m \u001b[0mRecusion\u001b[0m\u001b[1;33m(\u001b[0m\u001b[0mRecusion\u001b[0m\u001b[1;33m)\u001b[0m\u001b[1;33m\u001b[0m\u001b[1;33m\u001b[0m\u001b[0m\n",
      "... last 1 frames repeated, from the frame below ...\n",
      "\u001b[1;32m<ipython-input-1-00d266b39dc6>\u001b[0m in \u001b[0;36mRecusion\u001b[1;34m(f)\u001b[0m\n\u001b[0;32m      1\u001b[0m \u001b[1;32mdef\u001b[0m \u001b[0mRecusion\u001b[0m\u001b[1;33m(\u001b[0m\u001b[0mf\u001b[0m\u001b[1;33m)\u001b[0m\u001b[1;33m:\u001b[0m\u001b[1;33m\u001b[0m\u001b[1;33m\u001b[0m\u001b[0m\n\u001b[1;32m----> 2\u001b[1;33m     \u001b[0mf\u001b[0m\u001b[1;33m(\u001b[0m\u001b[0mf\u001b[0m\u001b[1;33m)\u001b[0m\u001b[1;33m\u001b[0m\u001b[1;33m\u001b[0m\u001b[0m\n\u001b[0m\u001b[0;32m      3\u001b[0m \u001b[1;33m\u001b[0m\u001b[0m\n\u001b[0;32m      4\u001b[0m \u001b[0mRecusion\u001b[0m\u001b[1;33m(\u001b[0m\u001b[0mRecusion\u001b[0m\u001b[1;33m)\u001b[0m\u001b[1;33m\u001b[0m\u001b[1;33m\u001b[0m\u001b[0m\n",
      "\u001b[1;31mRecursionError\u001b[0m: maximum recursion depth exceeded"
     ]
    }
   ],
   "source": [
    "def Recusion(f):\n",
    "    f(f)\n",
    "    \n",
    "Recusion(Recusion)"
   ]
  },
  {
   "cell_type": "markdown",
   "metadata": {},
   "source": [
    "El procedimiento del programa indica evaluar una función en ella misma\n",
    "como no existe por lo menos un caso base se genera una recursión infinita, es decir el programa indica únicamente el paso recursivo con lo que se genera un loop infinito, por lo que la salida indica que se excedió el proceso de la cantidad de recursiones."
   ]
  },
  {
   "cell_type": "markdown",
   "metadata": {},
   "source": [
    "## Ejercicio 2\n",
    "\n",
    "Vea el siguiente vídeo: <https://www.youtube.com/watch?v=qxRW5pDT2o4>  \n",
    "\n",
    "Complete el código siguiente para encontrar el máximo común divisor dado dos números enteros. \n",
    "\n",
    "Las condiciones básicas, son:"
   ]
  },
  {
   "cell_type": "markdown",
   "metadata": {},
   "source": [
    "Para dos números $a$ y $b$, tal que $b\\leq a$:\n",
    "* $mcd(a,0) = a$\n",
    "* Si $b\\vert a$ (divida enteramente), entonces $mcd(a,b)=b$\n",
    "* En otro caso, $mcd(a,b) = mcd(b,a \\,mod \\, b)$\n",
    "\n"
   ]
  },
  {
   "cell_type": "code",
   "execution_count": 10,
   "metadata": {},
   "outputs": [],
   "source": [
    "def mcd(a,b):\n",
    "    '''Donde a >= b'''\n",
    "    if b==0: #Añada la condición faltante:\n",
    "        return a \n",
    "    elif (a % b ==0): #Encuentre la condición:\n",
    "        return b\n",
    "    else:\n",
    "        return mcd(b,a%b)\n",
    "    "
   ]
  },
  {
   "cell_type": "code",
   "execution_count": 13,
   "metadata": {},
   "outputs": [
    {
     "data": {
      "text/plain": [
       "90"
      ]
     },
     "execution_count": 13,
     "metadata": {},
     "output_type": "execute_result"
    }
   ],
   "source": [
    "mcd(450,360)"
   ]
  },
  {
   "cell_type": "code",
   "execution_count": 4,
   "metadata": {},
   "outputs": [
    {
     "data": {
      "text/plain": [
       "0"
      ]
     },
     "execution_count": 4,
     "metadata": {},
     "output_type": "execute_result"
    }
   ],
   "source": [
    "12%2"
   ]
  },
  {
   "cell_type": "markdown",
   "metadata": {},
   "source": [
    "## Ejercicio 3\n",
    "\n",
    "Implemente un algoritmo recursivo para obtener la parte entera de la división entre dos números enteros. (Pista: Asocie con la resta)."
   ]
  },
  {
   "cell_type": "code",
   "execution_count": 63,
   "metadata": {},
   "outputs": [],
   "source": [
    "def parte_entera(a,b):\n",
    "    '''Donde a >= b'''\n",
    "    if (a-b)==0:\n",
    "        return 1\n",
    "    elif (a-b)<b:\n",
    "        return 1\n",
    "    else:\n",
    "        return 1+parte_entera(a-b,b)"
   ]
  },
  {
   "cell_type": "code",
   "execution_count": 66,
   "metadata": {},
   "outputs": [
    {
     "data": {
      "text/plain": [
       "7"
      ]
     },
     "execution_count": 66,
     "metadata": {},
     "output_type": "execute_result"
    }
   ],
   "source": [
    "parte_entera(30,4)"
   ]
  },
  {
   "cell_type": "code",
   "execution_count": 67,
   "metadata": {},
   "outputs": [
    {
     "data": {
      "text/plain": [
       "7"
      ]
     },
     "execution_count": 67,
     "metadata": {},
     "output_type": "execute_result"
    }
   ],
   "source": [
    "30//4"
   ]
  },
  {
   "cell_type": "markdown",
   "metadata": {},
   "source": [
    "# Ejercicio 4\n",
    "\n",
    "En el ejemplo de clase (Coordinate), modifique el método constructor para que verifique que los argumentos $x$ y $y$ sean flotantes.  "
   ]
  },
  {
   "cell_type": "code",
   "execution_count": 72,
   "metadata": {},
   "outputs": [],
   "source": [
    "class Coordinate(object):\n",
    "    #\n",
    "    #Método constructor\n",
    "    def __init__(self,x,y):\n",
    "        #¿Cómo se quiere inicializar el objeto?\n",
    "        assert type(x) == float and type(y) == float,\"Los datos no son flotantes\"\n",
    "        \n",
    "        self.x = x\n",
    "        self.y = y\n",
    "        print(self)\n",
    "    #Método de distancia\n",
    "    #Calcula la distancia entre este objeto(self)y otro objeto\n",
    "    #Coordinate, denominado other\n",
    "    \n",
    "    def distance(self,other):\n",
    "        x_sq=(self.x-other.x)**2\n",
    "        y_sq=(self.y-other.y)**2\n",
    "        return (x_sq + y_sq)**0.5\n",
    "    \n",
    "    #Método de impresión\n",
    "    def __str__(self):\n",
    "        return \"Objeto Coordinate <%0.2f,%0.2f>\" % (self.x,self.y)\n",
    "    "
   ]
  },
  {
   "cell_type": "code",
   "execution_count": 73,
   "metadata": {},
   "outputs": [
    {
     "ename": "AssertionError",
     "evalue": "Los datos no son flotantes",
     "output_type": "error",
     "traceback": [
      "\u001b[1;31m---------------------------------------------------------------------------\u001b[0m",
      "\u001b[1;31mAssertionError\u001b[0m                            Traceback (most recent call last)",
      "\u001b[1;32m<ipython-input-73-f6bc9ccc5682>\u001b[0m in \u001b[0;36m<module>\u001b[1;34m\u001b[0m\n\u001b[1;32m----> 1\u001b[1;33m \u001b[0mObjeto\u001b[0m\u001b[1;33m=\u001b[0m\u001b[0mCoordinate\u001b[0m\u001b[1;33m(\u001b[0m\u001b[1;36m2\u001b[0m\u001b[1;33m,\u001b[0m\u001b[1;36m3\u001b[0m\u001b[1;33m)\u001b[0m\u001b[1;33m\u001b[0m\u001b[1;33m\u001b[0m\u001b[0m\n\u001b[0m",
      "\u001b[1;32m<ipython-input-72-6a5ae646c0d2>\u001b[0m in \u001b[0;36m__init__\u001b[1;34m(self, x, y)\u001b[0m\n\u001b[0;32m      4\u001b[0m     \u001b[1;32mdef\u001b[0m \u001b[0m__init__\u001b[0m\u001b[1;33m(\u001b[0m\u001b[0mself\u001b[0m\u001b[1;33m,\u001b[0m\u001b[0mx\u001b[0m\u001b[1;33m,\u001b[0m\u001b[0my\u001b[0m\u001b[1;33m)\u001b[0m\u001b[1;33m:\u001b[0m\u001b[1;33m\u001b[0m\u001b[1;33m\u001b[0m\u001b[0m\n\u001b[0;32m      5\u001b[0m         \u001b[1;31m#¿Cómo se quiere inicializar el objeto?\u001b[0m\u001b[1;33m\u001b[0m\u001b[1;33m\u001b[0m\u001b[1;33m\u001b[0m\u001b[0m\n\u001b[1;32m----> 6\u001b[1;33m         \u001b[1;32massert\u001b[0m \u001b[0mtype\u001b[0m\u001b[1;33m(\u001b[0m\u001b[0mx\u001b[0m\u001b[1;33m)\u001b[0m \u001b[1;33m==\u001b[0m \u001b[0mfloat\u001b[0m \u001b[1;32mand\u001b[0m \u001b[0mtype\u001b[0m\u001b[1;33m(\u001b[0m\u001b[0my\u001b[0m\u001b[1;33m)\u001b[0m \u001b[1;33m==\u001b[0m \u001b[0mfloat\u001b[0m\u001b[1;33m,\u001b[0m\u001b[1;34m\"Los datos no son flotantes\"\u001b[0m\u001b[1;33m\u001b[0m\u001b[1;33m\u001b[0m\u001b[0m\n\u001b[0m\u001b[0;32m      7\u001b[0m \u001b[1;33m\u001b[0m\u001b[0m\n\u001b[0;32m      8\u001b[0m         \u001b[0mself\u001b[0m\u001b[1;33m.\u001b[0m\u001b[0mx\u001b[0m \u001b[1;33m=\u001b[0m \u001b[0mx\u001b[0m\u001b[1;33m\u001b[0m\u001b[1;33m\u001b[0m\u001b[0m\n",
      "\u001b[1;31mAssertionError\u001b[0m: Los datos no son flotantes"
     ]
    }
   ],
   "source": [
    "Objeto=Coordinate(2,3)"
   ]
  },
  {
   "cell_type": "markdown",
   "metadata": {},
   "source": [
    "# Ejercicio 5\n",
    "\n",
    "1. Cree una clase llamada ``Persona``, que asigne una cadena a la propiedad ``nombre`` y un número entero a la propiedad ``edad``. Al imprimir el objeto, debe concatenar tanto el nombre con la edad. \n",
    "2. A la clase anterior, añada un método para sumar dos objetos de tipo ``Persona``. El resultado debe ser ambos nombres concatenados y la suma de ambas edades.\n",
    "3. Modifique la clase para que el objeto tenga otra propiedad llamada ``altura``. Cuando se solicite la longitud del objeto, muestre la altura. También debe modificar el método de impresión para que muestre la altura. ¿Qué pasa con el método de suma?\n",
    "\n"
   ]
  },
  {
   "cell_type": "code",
   "execution_count": 195,
   "metadata": {},
   "outputs": [],
   "source": [
    "class Persona(object):\n",
    "    #\n",
    "    #Método constructor\n",
    "    def __init__(self,nombre,edad,altura):\n",
    "        #¿Cómo se quiere inicializar el objeto?\n",
    "        assert type(nombre) == str and type(edad) == int and type(altura)== int , \"La información del nombre debe ser una cadena, la edad un entero y la altura en centímetros\"\n",
    "        self.nombre = nombre\n",
    "        self.edad = edad\n",
    "        self.altura = altura\n",
    "        print(self)\n",
    "    \n",
    "    #Método de impresión\n",
    "    def __str__(self):\n",
    "        return \" Nombre: %s , Edad: %d , Altura %d  \" % (self.nombre,self.edad,self.altura)\n",
    "    \n",
    "    #Método de suma\n",
    "    def __add__(self, other):\n",
    "        nomb = str(str(self.nombre) + \",\" + str(other.nombre))\n",
    "        edades = int(self.edad+other.edad)\n",
    "        return  Persona(str(nomb),int(edades))\n",
    "    \n",
    "    def __len__(self):\n",
    "        return int(self.altura)\n",
    "        \n",
    "   \n",
    "    "
   ]
  },
  {
   "cell_type": "code",
   "execution_count": 163,
   "metadata": {
    "scrolled": true
   },
   "outputs": [
    {
     "name": "stdout",
     "output_type": "stream",
     "text": [
      " Nombre: Mariela , Edad: 29 \n"
     ]
    }
   ],
   "source": [
    "Mariela = Persona(\"Mariela\",29)"
   ]
  },
  {
   "cell_type": "code",
   "execution_count": 164,
   "metadata": {},
   "outputs": [
    {
     "name": "stdout",
     "output_type": "stream",
     "text": [
      " Nombre: Juan , Edad: 14 \n"
     ]
    }
   ],
   "source": [
    "Juan = Persona(\"Juan\",14)"
   ]
  },
  {
   "cell_type": "code",
   "execution_count": 165,
   "metadata": {},
   "outputs": [
    {
     "name": "stdout",
     "output_type": "stream",
     "text": [
      " Nombre: Mariela,Juan , Edad: 43 \n"
     ]
    },
    {
     "data": {
      "text/plain": [
       "<__main__.Persona at 0x1e6609c14c8>"
      ]
     },
     "execution_count": 165,
     "metadata": {},
     "output_type": "execute_result"
    }
   ],
   "source": [
    "Mariela + Juan"
   ]
  },
  {
   "cell_type": "code",
   "execution_count": 196,
   "metadata": {},
   "outputs": [
    {
     "name": "stdout",
     "output_type": "stream",
     "text": [
      " Nombre: Pedro , Edad: 20 , Altura 160  \n"
     ]
    }
   ],
   "source": [
    "Pedro = Persona(\"Pedro\",20,160)"
   ]
  },
  {
   "cell_type": "code",
   "execution_count": 197,
   "metadata": {},
   "outputs": [
    {
     "name": "stdout",
     "output_type": "stream",
     "text": [
      " Nombre: Pedro , Edad: 25 , Altura 175  \n"
     ]
    }
   ],
   "source": [
    "Ramiro = Persona(\"Pedro\",25,175)"
   ]
  },
  {
   "cell_type": "code",
   "execution_count": 198,
   "metadata": {},
   "outputs": [
    {
     "data": {
      "text/plain": [
       "175"
      ]
     },
     "execution_count": 198,
     "metadata": {},
     "output_type": "execute_result"
    }
   ],
   "source": [
    "len(Ramiro)"
   ]
  },
  {
   "cell_type": "code",
   "execution_count": 199,
   "metadata": {},
   "outputs": [
    {
     "ename": "TypeError",
     "evalue": "__init__() missing 1 required positional argument: 'altura'",
     "output_type": "error",
     "traceback": [
      "\u001b[1;31m---------------------------------------------------------------------------\u001b[0m",
      "\u001b[1;31mTypeError\u001b[0m                                 Traceback (most recent call last)",
      "\u001b[1;32m<ipython-input-199-0de1b5fdd55c>\u001b[0m in \u001b[0;36m<module>\u001b[1;34m\u001b[0m\n\u001b[1;32m----> 1\u001b[1;33m \u001b[0mRamiro\u001b[0m \u001b[1;33m+\u001b[0m \u001b[0mPedro\u001b[0m\u001b[1;33m\u001b[0m\u001b[1;33m\u001b[0m\u001b[0m\n\u001b[0m",
      "\u001b[1;32m<ipython-input-195-644e70cea29c>\u001b[0m in \u001b[0;36m__add__\u001b[1;34m(self, other)\u001b[0m\n\u001b[0;32m     18\u001b[0m         \u001b[0mnomb\u001b[0m \u001b[1;33m=\u001b[0m \u001b[0mstr\u001b[0m\u001b[1;33m(\u001b[0m\u001b[0mstr\u001b[0m\u001b[1;33m(\u001b[0m\u001b[0mself\u001b[0m\u001b[1;33m.\u001b[0m\u001b[0mnombre\u001b[0m\u001b[1;33m)\u001b[0m \u001b[1;33m+\u001b[0m \u001b[1;34m\",\"\u001b[0m \u001b[1;33m+\u001b[0m \u001b[0mstr\u001b[0m\u001b[1;33m(\u001b[0m\u001b[0mother\u001b[0m\u001b[1;33m.\u001b[0m\u001b[0mnombre\u001b[0m\u001b[1;33m)\u001b[0m\u001b[1;33m)\u001b[0m\u001b[1;33m\u001b[0m\u001b[1;33m\u001b[0m\u001b[0m\n\u001b[0;32m     19\u001b[0m         \u001b[0medades\u001b[0m \u001b[1;33m=\u001b[0m \u001b[0mint\u001b[0m\u001b[1;33m(\u001b[0m\u001b[0mself\u001b[0m\u001b[1;33m.\u001b[0m\u001b[0medad\u001b[0m\u001b[1;33m+\u001b[0m\u001b[0mother\u001b[0m\u001b[1;33m.\u001b[0m\u001b[0medad\u001b[0m\u001b[1;33m)\u001b[0m\u001b[1;33m\u001b[0m\u001b[1;33m\u001b[0m\u001b[0m\n\u001b[1;32m---> 20\u001b[1;33m         \u001b[1;32mreturn\u001b[0m  \u001b[0mPersona\u001b[0m\u001b[1;33m(\u001b[0m\u001b[0mstr\u001b[0m\u001b[1;33m(\u001b[0m\u001b[0mnomb\u001b[0m\u001b[1;33m)\u001b[0m\u001b[1;33m,\u001b[0m\u001b[0mint\u001b[0m\u001b[1;33m(\u001b[0m\u001b[0medades\u001b[0m\u001b[1;33m)\u001b[0m\u001b[1;33m)\u001b[0m\u001b[1;33m\u001b[0m\u001b[1;33m\u001b[0m\u001b[0m\n\u001b[0m\u001b[0;32m     21\u001b[0m \u001b[1;33m\u001b[0m\u001b[0m\n\u001b[0;32m     22\u001b[0m     \u001b[1;32mdef\u001b[0m \u001b[0m__len__\u001b[0m\u001b[1;33m(\u001b[0m\u001b[0mself\u001b[0m\u001b[1;33m)\u001b[0m\u001b[1;33m:\u001b[0m\u001b[1;33m\u001b[0m\u001b[1;33m\u001b[0m\u001b[0m\n",
      "\u001b[1;31mTypeError\u001b[0m: __init__() missing 1 required positional argument: 'altura'"
     ]
    }
   ],
   "source": [
    "Ramiro + Pedro"
   ]
  },
  {
   "cell_type": "markdown",
   "metadata": {},
   "source": [
    "Al calcular la suma, la definición no contiene el campo \"altura\" por lo que deberá modificarse para poder generar un resultado, dentro del tipo de objeto definido e indicar que hacer con esa tercera componente."
   ]
  },
  {
   "cell_type": "markdown",
   "metadata": {},
   "source": [
    " # Ejercicio Canasta de Bienes"
   ]
  },
  {
   "cell_type": "code",
   "execution_count": 268,
   "metadata": {},
   "outputs": [],
   "source": [
    "class Canasta(object):\n",
    "    #\n",
    "    #Método constructor\n",
    "    def __init__(self,cerveza,ocio,ceviche):\n",
    "        #¿Cómo se quiere inicializar el objeto?\n",
    "        assert type(cerveza) == int and type(ocio) == int and type(ceviche)== int , \"La información de cerveza debe estar en tarros, ocio en horas y ceviche en platos\"\n",
    "        self.cerveza = cerveza\n",
    "        self.ocio = ocio\n",
    "        self.ceviche = ceviche\n",
    "        print(self)\n",
    "        \n",
    "    #Utilidad de las canastas\n",
    "    def utilidad(self):\n",
    "        return int((self.cerveza**0.3)*(self.ocio**0.6)*(self.ceviche**0.1))\n",
    "   \n",
    "    #comparación\n",
    "    def __eq__(self,other):\n",
    "        return self.utilidad()==other.utilidad()\n",
    "    \n",
    "    #comparación\n",
    "    def __lt__(self,other):\n",
    "        return self.utilidad()<other.utilidad()\n",
    "   "
   ]
  },
  {
   "cell_type": "code",
   "execution_count": 269,
   "metadata": {},
   "outputs": [
    {
     "name": "stdout",
     "output_type": "stream",
     "text": [
      "<__main__.Canasta object at 0x000001E660A25508>\n"
     ]
    }
   ],
   "source": [
    "Canasta_1=Canasta(20,10,3)"
   ]
  },
  {
   "cell_type": "code",
   "execution_count": 270,
   "metadata": {},
   "outputs": [
    {
     "name": "stdout",
     "output_type": "stream",
     "text": [
      "<__main__.Canasta object at 0x000001E66059D488>\n"
     ]
    }
   ],
   "source": [
    "Canasta_2=Canasta(5,15,5)"
   ]
  },
  {
   "cell_type": "code",
   "execution_count": 271,
   "metadata": {},
   "outputs": [
    {
     "data": {
      "text/plain": [
       "False"
      ]
     },
     "execution_count": 271,
     "metadata": {},
     "output_type": "execute_result"
    }
   ],
   "source": [
    "Canasta_1==Canasta_2"
   ]
  },
  {
   "cell_type": "code",
   "execution_count": 272,
   "metadata": {
    "scrolled": true
   },
   "outputs": [
    {
     "data": {
      "text/plain": [
       "True"
      ]
     },
     "execution_count": 272,
     "metadata": {},
     "output_type": "execute_result"
    }
   ],
   "source": [
    "Canasta_1>Canasta_2"
   ]
  },
  {
   "cell_type": "code",
   "execution_count": 273,
   "metadata": {},
   "outputs": [
    {
     "data": {
      "text/plain": [
       "10"
      ]
     },
     "execution_count": 273,
     "metadata": {},
     "output_type": "execute_result"
    }
   ],
   "source": [
    "Canasta_1.utilidad()"
   ]
  },
  {
   "cell_type": "code",
   "execution_count": 274,
   "metadata": {},
   "outputs": [
    {
     "data": {
      "text/plain": [
       "9"
      ]
     },
     "execution_count": 274,
     "metadata": {},
     "output_type": "execute_result"
    }
   ],
   "source": [
    "Canasta_2.utilidad()"
   ]
  },
  {
   "cell_type": "markdown",
   "metadata": {},
   "source": [
    " # Ejercicio mensaje encriptado"
   ]
  },
  {
   "cell_type": "code",
   "execution_count": 260,
   "metadata": {},
   "outputs": [],
   "source": [
    "class Mensaje(object):\n",
    "    #\n",
    "    #Método constructor\n",
    "    def __init__(self,mensaje):\n",
    "        #¿Cómo se quiere inicializar el objeto?\n",
    "        assert type(mensaje) == str , \"El mensaje debe ser una cadena de texto\"\n",
    "        self.mensaje = mensaje\n",
    "        \n",
    "    def encriptar(self):\n",
    "        encriptado=\"\"\n",
    "        for i in range(len(self.mensaje)):\n",
    "            letra=ord(self.mensaje[i])\n",
    "            codigo=letra+3\n",
    "            encriptado=encriptado+chr(codigo)\n",
    "        return encriptado\n",
    "    \n",
    "    def __str__(self):\n",
    "        '''Imprime el mensaje encriptado'''\n",
    "        cod=encriptar(self.mensaje)\n",
    "        return cod\n",
    "            "
   ]
  },
  {
   "cell_type": "code",
   "execution_count": 263,
   "metadata": {},
   "outputs": [],
   "source": [
    "mensaje = Mensaje(\"El proyecto si corre rápido en mi compu :(\")"
   ]
  },
  {
   "cell_type": "code",
   "execution_count": 264,
   "metadata": {},
   "outputs": [
    {
     "data": {
      "text/plain": [
       "'Ho#sur|hfwr#vl#fruuh#uäslgr#hq#pl#frpsx#=+'"
      ]
     },
     "execution_count": 264,
     "metadata": {},
     "output_type": "execute_result"
    }
   ],
   "source": [
    "mensaje.encriptar()"
   ]
  }
 ],
 "metadata": {
  "kernelspec": {
   "display_name": "Python 3",
   "language": "python",
   "name": "python3"
  },
  "language_info": {
   "codemirror_mode": {
    "name": "ipython",
    "version": 3
   },
   "file_extension": ".py",
   "mimetype": "text/x-python",
   "name": "python",
   "nbconvert_exporter": "python",
   "pygments_lexer": "ipython3",
   "version": "3.7.4"
  }
 },
 "nbformat": 4,
 "nbformat_minor": 2
}
